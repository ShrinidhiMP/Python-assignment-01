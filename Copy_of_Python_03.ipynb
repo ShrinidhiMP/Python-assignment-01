{
  "nbformat": 4,
  "nbformat_minor": 0,
  "metadata": {
    "colab": {
      "name": "Copy of Python-03.ipynb",
      "provenance": [],
      "collapsed_sections": []
    },
    "kernelspec": {
      "name": "python3",
      "display_name": "Python 3"
    },
    "language_info": {
      "name": "python"
    }
  },
  "cells": [
    {
      "cell_type": "markdown",
      "metadata": {
        "id": "7TIY-OeKvpLa"
      },
      "source": [
        "Task-5\n"
      ]
    },
    {
      "cell_type": "code",
      "metadata": {
        "id": "_c699DpavuSn"
      },
      "source": [
        "dict1={\n",
        "    \"april_batch\":{\n",
        "        \"student\":{\n",
        "            \"name\":\"Mike\",\n",
        "            \"marks\":{\n",
        "                \"Python\":80,\n",
        "                \"Maths\":70\n",
        "            }\n",
        "        }\n",
        "    }\n",
        "}\n",
        "\n"
      ],
      "execution_count": null,
      "outputs": []
    },
    {
      "cell_type": "markdown",
      "metadata": {
        "id": "QXdCTKj0w1D_"
      },
      "source": [
        "From the above dictionary,\n",
        "\n",
        "1.Access \"Mike\"\n"
      ]
    },
    {
      "cell_type": "code",
      "metadata": {
        "colab": {
          "base_uri": "https://localhost:8080/",
          "height": 35
        },
        "id": "4Tikrt7mxKsx",
        "outputId": "0333a1cc-3e1f-4211-dd76-047f892d487b"
      },
      "source": [
        "dict1[\"april_batch\"][\"student\"][\"name\"]"
      ],
      "execution_count": null,
      "outputs": [
        {
          "output_type": "execute_result",
          "data": {
            "application/vnd.google.colaboratory.intrinsic+json": {
              "type": "string"
            },
            "text/plain": [
              "'Mike'"
            ]
          },
          "metadata": {
            "tags": []
          },
          "execution_count": 5
        }
      ]
    },
    {
      "cell_type": "markdown",
      "metadata": {
        "id": "n3yfxrTwypt_"
      },
      "source": [
        "2.Access 80\n"
      ]
    },
    {
      "cell_type": "code",
      "metadata": {
        "colab": {
          "base_uri": "https://localhost:8080/"
        },
        "id": "qNhvqgmayxzX",
        "outputId": "cedd592a-b2c8-4255-d7e6-9aa17fd207d7"
      },
      "source": [
        "dict1[\"april_batch\"][\"student\"][\"marks\"][\"Python\"]"
      ],
      "execution_count": null,
      "outputs": [
        {
          "output_type": "execute_result",
          "data": {
            "text/plain": [
              "80"
            ]
          },
          "metadata": {
            "tags": []
          },
          "execution_count": 22
        }
      ]
    },
    {
      "cell_type": "markdown",
      "metadata": {
        "id": "oCSvsPdZ1MWE"
      },
      "source": [
        "3.Change \"Mike\" to \"Your name\"\n"
      ]
    },
    {
      "cell_type": "code",
      "metadata": {
        "colab": {
          "base_uri": "https://localhost:8080/"
        },
        "id": "YsVaQ6ly2hLh",
        "outputId": "cde43794-3498-438c-f441-dee3225920b7"
      },
      "source": [
        "dict1[\"april_batch\"][\"student\"][\"name\"]=\"Shrinidhi\"\n",
        "print(dict1)"
      ],
      "execution_count": null,
      "outputs": [
        {
          "output_type": "stream",
          "text": [
            "{'april_batch': {'student': {'name': 'Shrinidhi', 'marks': {'Python': 80, 'Maths': 70}}}}\n"
          ],
          "name": "stdout"
        }
      ]
    },
    {
      "cell_type": "markdown",
      "metadata": {
        "id": "GL0QRR8Q3VO3"
      },
      "source": [
        "4.Add ML=80 and DL=80 inside marks\n"
      ]
    },
    {
      "cell_type": "code",
      "metadata": {
        "colab": {
          "base_uri": "https://localhost:8080/"
        },
        "id": "tpnnPlL43vKG",
        "outputId": "6472a72e-d779-4ee2-9f92-d83acbc5da38"
      },
      "source": [
        "dict1[\"april_batch\"][\"student\"][\"marks\"][\"ML\"]=80\n",
        "print(dict1)"
      ],
      "execution_count": null,
      "outputs": [
        {
          "output_type": "stream",
          "text": [
            "{'april_batch': {'student': {'name': 'Shrinidhi', 'marks': {'Python': 80, 'Maths': 70, 'ML': 80}}}}\n"
          ],
          "name": "stdout"
        }
      ]
    },
    {
      "cell_type": "code",
      "metadata": {
        "colab": {
          "base_uri": "https://localhost:8080/"
        },
        "id": "SQuv44PQ_uxw",
        "outputId": "ad172460-4a33-476a-bfaa-a979b8a483b3"
      },
      "source": [
        "dict1[\"april_batch\"][\"student\"][\"marks\"][\"DL\"]=80\n",
        "print(dict1)"
      ],
      "execution_count": null,
      "outputs": [
        {
          "output_type": "stream",
          "text": [
            "{'april_batch': {'student': {'name': 'Shrinidhi', 'marks': {'Python': 80, 'Maths': 70, 'ML': 80, 'DL': 80}}}}\n"
          ],
          "name": "stdout"
        }
      ]
    },
    {
      "cell_type": "markdown",
      "metadata": {
        "id": "fUBRE5HWAUOY"
      },
      "source": [
        "TASK-6\n",
        "Add and remove the elemts from a tuple "
      ]
    },
    {
      "cell_type": "code",
      "metadata": {
        "id": "BQqs2xcHAnOp"
      },
      "source": [
        "tup=(1,2,3,4,5,6)"
      ],
      "execution_count": null,
      "outputs": []
    },
    {
      "cell_type": "markdown",
      "metadata": {
        "id": "EswwtUgQA-qD"
      },
      "source": [
        "Converting to list\n"
      ]
    },
    {
      "cell_type": "code",
      "metadata": {
        "colab": {
          "base_uri": "https://localhost:8080/"
        },
        "id": "vEpG31W8BGGl",
        "outputId": "3f8aaf80-8092-4fe8-c261-18a706dfced5"
      },
      "source": [
        "list1=list(tup)\n",
        "list1"
      ],
      "execution_count": null,
      "outputs": [
        {
          "output_type": "execute_result",
          "data": {
            "text/plain": [
              "[1, 2, 3, 4, 5, 6]"
            ]
          },
          "metadata": {
            "tags": []
          },
          "execution_count": 65
        }
      ]
    },
    {
      "cell_type": "markdown",
      "metadata": {
        "id": "HxnWd3kRBhdv"
      },
      "source": [
        "To add list\n"
      ]
    },
    {
      "cell_type": "code",
      "metadata": {
        "colab": {
          "base_uri": "https://localhost:8080/"
        },
        "id": "CX9gWEkACuUf",
        "outputId": "62207652-7c04-462a-9c15-bbc1c816da94"
      },
      "source": [
        "list1.append(7)\n",
        "list1"
      ],
      "execution_count": null,
      "outputs": [
        {
          "output_type": "execute_result",
          "data": {
            "text/plain": [
              "[1, 2, 3, 4, 5, 6, 7]"
            ]
          },
          "metadata": {
            "tags": []
          },
          "execution_count": 68
        }
      ]
    },
    {
      "cell_type": "markdown",
      "metadata": {
        "id": "PrhvDOWiEA-p"
      },
      "source": [
        "To remove\n"
      ]
    },
    {
      "cell_type": "code",
      "metadata": {
        "colab": {
          "base_uri": "https://localhost:8080/"
        },
        "id": "ow9WjkhtEHBd",
        "outputId": "616af005-e6e8-4197-e2da-a691c562dc1a"
      },
      "source": [
        "rem=list1.pop(6)\n",
        "list1"
      ],
      "execution_count": null,
      "outputs": [
        {
          "output_type": "execute_result",
          "data": {
            "text/plain": [
              "[1, 2, 3, 4, 5, 6]"
            ]
          },
          "metadata": {
            "tags": []
          },
          "execution_count": 69
        }
      ]
    },
    {
      "cell_type": "markdown",
      "metadata": {
        "id": "Vf8ZgFXLEbdC"
      },
      "source": [
        "Again convert to tuple\n"
      ]
    },
    {
      "cell_type": "code",
      "metadata": {
        "colab": {
          "base_uri": "https://localhost:8080/"
        },
        "id": "bhbt3q5lEhd1",
        "outputId": "4da710f7-3f7e-4149-f358-da4321064961"
      },
      "source": [
        "tup=tuple(list1)\n",
        "tup"
      ],
      "execution_count": null,
      "outputs": [
        {
          "output_type": "execute_result",
          "data": {
            "text/plain": [
              "(1, 2, 3, 4, 5, 6)"
            ]
          },
          "metadata": {
            "tags": []
          },
          "execution_count": 70
        }
      ]
    }
  ]
}